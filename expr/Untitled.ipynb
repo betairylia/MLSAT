{
 "cells": [
  {
   "cell_type": "code",
   "execution_count": 1,
   "metadata": {},
   "outputs": [],
   "source": [
    "import numpy as np"
   ]
  },
  {
   "cell_type": "code",
   "execution_count": 24,
   "metadata": {},
   "outputs": [],
   "source": [
    "neighbors = np.array([[0, 1], [1, 0], [-1, 0]])"
   ]
  },
  {
   "cell_type": "code",
   "execution_count": 28,
   "metadata": {},
   "outputs": [
    {
     "name": "stdout",
     "output_type": "stream",
     "text": [
      "[[ 1  0  0]\n",
      " [ 0  1 -1]\n",
      " [ 0 -1  1]]\n",
      "\n",
      "Minimal distance\n",
      "0.0\n",
      "[-0.70710678  0.70710678  0.        ]\n",
      "\n",
      "Reconstructed zero\n",
      "[[-0.70710678]\n",
      " [ 0.70710678]\n",
      " [ 0.        ]]\n"
     ]
    }
   ],
   "source": [
    "C = neighbors.dot(np.transpose(neighbors))\n",
    "print(C)\n",
    "\n",
    "print(\"\\nMinimal distance\")\n",
    "evl, evc = np.linalg.eig(C)\n",
    "ix = np.argmin(evl)\n",
    "evc = evc[ix]\n",
    "# evc = evc / np.sum(evc)\n",
    "print(evl[ix])\n",
    "print(evc)\n",
    "\n",
    "print(\"\\nReconstructed zero\")\n",
    "print(np.expand_dims(evc, -1))\n",
    "# print(np.sum(np.expand_dims(evc, -1) * neighbors, 0))"
   ]
  },
  {
   "cell_type": "code",
   "execution_count": null,
   "metadata": {},
   "outputs": [],
   "source": []
  }
 ],
 "metadata": {
  "kernelspec": {
   "display_name": "Python (torch)",
   "language": "python",
   "name": "torch"
  },
  "language_info": {
   "codemirror_mode": {
    "name": "ipython",
    "version": 3
   },
   "file_extension": ".py",
   "mimetype": "text/x-python",
   "name": "python",
   "nbconvert_exporter": "python",
   "pygments_lexer": "ipython3",
   "version": "3.6.10"
  }
 },
 "nbformat": 4,
 "nbformat_minor": 2
}
